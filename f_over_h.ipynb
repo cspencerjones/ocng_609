{
 "cells": [
  {
   "cell_type": "markdown",
   "metadata": {},
   "source": [
    "# Exploring f/h contours"
   ]
  },
  {
   "cell_type": "markdown",
   "metadata": {},
   "source": [
    "Read and run all the cells in the notebook"
   ]
  },
  {
   "cell_type": "code",
   "execution_count": null,
   "metadata": {},
   "outputs": [],
   "source": [
    "#In this cell, we import the packages needed to do the rest of the calculation\n",
    "import numpy as np\n",
    "import matplotlib.pyplot as plt"
   ]
  },
  {
   "cell_type": "markdown",
   "metadata": {},
   "source": [
    "Imagine we look at a piece of ocean between 30 and 50 degrees north. "
   ]
  },
  {
   "cell_type": "code",
   "execution_count": null,
   "metadata": {},
   "outputs": [],
   "source": [
    "lat = np.arange(30,50,1)\n",
    "lon=np.arange(0,20,1)\n",
    "\n",
    "long,latg = np.meshgrid(lon,lat)"
   ]
  },
  {
   "cell_type": "code",
   "execution_count": null,
   "metadata": {},
   "outputs": [],
   "source": [
    "cs = plt.contour(lon,lat,latg)\n",
    "plt.xlabel('Longitude')\n",
    "plt.ylabel('Latitude')\n",
    "plt.colorbar(cs)\n",
    "plt.title('Latitude gridded over the domain')"
   ]
  },
  {
   "cell_type": "markdown",
   "metadata": {},
   "source": [
    "Let's calculate f:"
   ]
  },
  {
   "cell_type": "code",
   "execution_count": null,
   "metadata": {},
   "outputs": [],
   "source": [
    "f = 4*np.pi/(3600*24)*np.sin(np.radians(latg))"
   ]
  },
  {
   "cell_type": "code",
   "execution_count": null,
   "metadata": {},
   "outputs": [],
   "source": [
    "cs = plt.contour(lon,lat,f)\n",
    "plt.xlabel('Longitude')\n",
    "plt.ylabel('Latitude')\n",
    "plt.colorbar(cs)\n",
    "plt.title('Coriols parameter')"
   ]
  },
  {
   "cell_type": "markdown",
   "metadata": {},
   "source": [
    "Imagine that the ocean has a flat bottom, and depth (which in this case is equal to the thickness of the water column) $h=1000m$"
   ]
  },
  {
   "cell_type": "code",
   "execution_count": null,
   "metadata": {},
   "outputs": [],
   "source": [
    "h=1000*np.ones((20,20)) #For parts b-d, please replace this line"
   ]
  },
  {
   "cell_type": "markdown",
   "metadata": {},
   "source": [
    "First let's plot $h$ (it is boring in the first part of the question, but it will help in the future)"
   ]
  },
  {
   "cell_type": "code",
   "execution_count": null,
   "metadata": {},
   "outputs": [],
   "source": [
    "cs = plt.contourf(lon,lat,h,cmap='Greys')\n",
    "plt.xlabel('Longitude')\n",
    "plt.ylabel('Latitude')\n",
    "plt.colorbar(cs)\n",
    "plt.title('Depth (m)')"
   ]
  },
  {
   "cell_type": "markdown",
   "metadata": {},
   "source": [
    "Let's plot $f/h$ as color contours and $h$ in grey. "
   ]
  },
  {
   "cell_type": "code",
   "execution_count": null,
   "metadata": {},
   "outputs": [],
   "source": [
    "plt.contourf(lon,lat,h,cmap='Greys')\n",
    "\n",
    "cs = plt.contour(lon,lat,f/h,levels=20)\n",
    "plt.xlabel('Longitude')\n",
    "plt.ylabel('Latitude')\n",
    "plt.colorbar(cs)\n",
    "plt.title('f/h')"
   ]
  },
  {
   "cell_type": "markdown",
   "metadata": {},
   "source": [
    "Flow enters the domain on the left. In this question, you can assume that the flow is very slow, so the relative vorticity $\\zeta$ is much less than $f$. In this case, the flow must follow contours of $f/h$. "
   ]
  },
  {
   "cell_type": "markdown",
   "metadata": {},
   "source": [
    "a) What happens to the flow in the case described above? Describe in words. "
   ]
  },
  {
   "cell_type": "markdown",
   "metadata": {},
   "source": [
    "b) Imagine that the bottom of the ocean is not flat. Replace the line `h=1000*np.ones((20,20))` above with\n",
    "\n",
    "`h=1000+10*np.cos(latg)*np.cos(long)`\n",
    "\n",
    "Describe what the new bathymetry looks like. Describe what happens to the flow. "
   ]
  },
  {
   "cell_type": "markdown",
   "metadata": {},
   "source": [
    "c) Imagine that the bottom of the ocean is not flat. Now replace the line `h=1000*np.ones((20,20))` above with\n",
    "\n",
    "`h=1000+50*np.cos(latg)*np.cos(long)`\n",
    "\n",
    "Describe what the new bathymetry looks like. Describe what happens to the flow."
   ]
  },
  {
   "cell_type": "markdown",
   "metadata": {},
   "source": [
    "d) Imagine that the bottom of the ocean is not flat. Now replace the line `h=1000*np.ones((20,20))` above with\n",
    "\n",
    "`h=1000-50*np.exp(-(long-10)**2)`\n",
    "\n",
    "Describe what the new bathymetry looks like. Describe what happens to the flow."
   ]
  },
  {
   "cell_type": "code",
   "execution_count": null,
   "metadata": {},
   "outputs": [],
   "source": []
  }
 ],
 "metadata": {
  "kernelspec": {
   "display_name": "Python [conda env:ocng_class]",
   "language": "python",
   "name": "conda-env-ocng_class-py"
  },
  "language_info": {
   "codemirror_mode": {
    "name": "ipython",
    "version": 3
   },
   "file_extension": ".py",
   "mimetype": "text/x-python",
   "name": "python",
   "nbconvert_exporter": "python",
   "pygments_lexer": "ipython3",
   "version": "3.10.2"
  }
 },
 "nbformat": 4,
 "nbformat_minor": 2
}
