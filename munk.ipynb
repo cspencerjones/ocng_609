{
 "cells": [
  {
   "cell_type": "markdown",
   "metadata": {},
   "source": [
    "# Quick exercise: Munk balance"
   ]
  },
  {
   "cell_type": "markdown",
   "metadata": {},
   "source": [
    "a) Take $Q_s=15 \\times 10^6 m^3/s$ and $A=4 \\times 10^{13} m^2$. What is $w$?\n",
    "\n",
    "b) Run all the cells in the notebook. Find where the exponential function is defined and write down the parameters that the code spits out\n",
    "\n",
    "c) What is the parameter c in the code? How does it relate to $K_v$ and $w$?\n",
    "\n",
    "d) Calculate $K_v$ based on $c$ and $w$\n"
   ]
  },
  {
   "cell_type": "code",
   "execution_count": null,
   "metadata": {},
   "outputs": [],
   "source": [
    "import numpy as np\n",
    "import xarray as xr\n",
    "from matplotlib import pyplot as plt\n",
    "import fsspec\n",
    "\n",
    "url = \"https://www.esrl.noaa.gov/psd/thredds/fileServer/Datasets/nodc.woa98/temperat/annual/otemp.raw1deg.nc\"\n",
    "\n",
    "\n",
    "with fsspec.open(url) as fp:\n",
    "    ds = xr.open_dataset(fp,decode_times=False).load()\n",
    "ds"
   ]
  },
  {
   "cell_type": "code",
   "execution_count": null,
   "metadata": {},
   "outputs": [],
   "source": [
    "#find the mean temperature profile over a small region\n",
    "T_profile = ds.otemp[0].sel(lon=slice(160, 170)).isel(lat=70).mean('lon')\n",
    "T_profile"
   ]
  },
  {
   "cell_type": "code",
   "execution_count": null,
   "metadata": {},
   "outputs": [],
   "source": [
    "# Fit a function to the data\n",
    "from scipy import optimize\n",
    "\n",
    "#define the function we want to fit to\n",
    "def test_func(x, a, b, c):\n",
    "    return a+b*np.exp(-x/c)\n",
    "\n",
    "params, params_covariance = optimize.curve_fit(test_func, ds.level.values, T_profile.values,\n",
    "                                               p0=[2, 2, 2])\n",
    "\n",
    "print(params)"
   ]
  },
  {
   "cell_type": "code",
   "execution_count": null,
   "metadata": {},
   "outputs": [],
   "source": [
    "plt.figure(figsize=(10, 10))\n",
    "T_profile.plot(y='level', yincrease=True, linewidth=5.0)\n",
    "plt.plot(test_func(ds.level, *params),ds.level, 'g--', linewidth=5.0)\n",
    "plt.gca().invert_yaxis()\n",
    "plt.gca().tick_params('both',labelsize=25)\n",
    "plt.ylabel('Depth (m)',fontsize=25)\n",
    "plt.xlabel('Temperature ($^{\\circ}C$)',fontsize=25);"
   ]
  },
  {
   "cell_type": "code",
   "execution_count": null,
   "metadata": {},
   "outputs": [],
   "source": []
  }
 ],
 "metadata": {
  "kernelspec": {
   "display_name": "ocng_class",
   "language": "python",
   "name": "ocng_class"
  },
  "language_info": {
   "codemirror_mode": {
    "name": "ipython",
    "version": 3
   },
   "file_extension": ".py",
   "mimetype": "text/x-python",
   "name": "python",
   "nbconvert_exporter": "python",
   "pygments_lexer": "ipython3",
   "version": "3.10.2"
  }
 },
 "nbformat": 4,
 "nbformat_minor": 2
}
